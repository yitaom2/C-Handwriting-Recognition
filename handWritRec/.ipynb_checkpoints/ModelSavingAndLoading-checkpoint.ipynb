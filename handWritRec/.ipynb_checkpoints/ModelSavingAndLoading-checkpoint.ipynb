{
 "cells": [
  {
   "cell_type": "code",
   "execution_count": 1,
   "metadata": {},
   "outputs": [
    {
     "name": "stderr",
     "output_type": "stream",
     "text": [
      "Using TensorFlow backend.\n",
      "WARNING: Logging before flag parsing goes to stderr.\n",
      "W0710 23:44:44.545402 140532980373312 deprecation_wrapper.py:119] From /home/yitao/.local/lib/python3.6/site-packages/keras/backend/tensorflow_backend.py:517: The name tf.placeholder is deprecated. Please use tf.compat.v1.placeholder instead.\n",
      "\n",
      "W0710 23:44:44.558356 140532980373312 deprecation_wrapper.py:119] From /home/yitao/.local/lib/python3.6/site-packages/keras/backend/tensorflow_backend.py:4138: The name tf.random_uniform is deprecated. Please use tf.random.uniform instead.\n",
      "\n",
      "W0710 23:44:44.645236 140532980373312 deprecation_wrapper.py:119] From /home/yitao/.local/lib/python3.6/site-packages/keras/backend/tensorflow_backend.py:174: The name tf.get_default_session is deprecated. Please use tf.compat.v1.get_default_session instead.\n",
      "\n",
      "W0710 23:44:44.645961 140532980373312 deprecation_wrapper.py:119] From /home/yitao/.local/lib/python3.6/site-packages/keras/backend/tensorflow_backend.py:181: The name tf.ConfigProto is deprecated. Please use tf.compat.v1.ConfigProto instead.\n",
      "\n",
      "W0710 23:44:44.646627 140532980373312 deprecation_wrapper.py:119] From /home/yitao/.local/lib/python3.6/site-packages/keras/backend/tensorflow_backend.py:186: The name tf.Session is deprecated. Please use tf.compat.v1.Session instead.\n",
      "\n",
      "W0710 23:44:44.743730 140532980373312 deprecation_wrapper.py:119] From /home/yitao/.local/lib/python3.6/site-packages/keras/optimizers.py:790: The name tf.train.Optimizer is deprecated. Please use tf.compat.v1.train.Optimizer instead.\n",
      "\n",
      "W0710 23:44:44.860386 140532980373312 deprecation.py:323] From /home/yitao/.local/lib/python3.6/site-packages/tensorflow/python/ops/math_grad.py:1250: add_dispatch_support.<locals>.wrapper (from tensorflow.python.ops.array_ops) is deprecated and will be removed in a future version.\n",
      "Instructions for updating:\n",
      "Use tf.where in 2.0, which has the same broadcast rule as np.where\n"
     ]
    }
   ],
   "source": [
    "from keras.models import load_model\n",
    "import keras \n",
    "from keras.datasets import mnist \n",
    "from keras.models import Sequential \n",
    "from keras.layers import Convolution2D, Dense, Flatten, MaxPooling2D\n",
    "import matplotlib.pyplot as plt \n",
    "import numpy as np\n",
    "np.set_printoptions(threshold=np.inf)\n",
    "from keras.utils import to_categorical\n",
    "from keras.optimizers import Adam\n",
    "(x_train, y_train), (x_test, y_test) = mnist.load_data()\n",
    "modeltest = load_model('model/weights.h5')\n",
    "x_train = x_train.reshape(60000, 28, 28, 1)\n",
    "x_test= x_test.reshape(10000, 28, 28, 1)\n",
    "y_train = to_categorical(y_train, 10)\n",
    "y_test = to_categorical(y_test, 10)"
   ]
  },
  {
   "cell_type": "code",
   "execution_count": 2,
   "metadata": {},
   "outputs": [
    {
     "name": "stdout",
     "output_type": "stream",
     "text": [
      "10000/10000 [==============================] - 1s 94us/step\n",
      "[0.4329315268946812, 0.8991000026464462]\n"
     ]
    }
   ],
   "source": [
    "print(modeltest.evaluate(x_test, y_test, batch_size=100))"
   ]
  },
  {
   "cell_type": "code",
   "execution_count": 3,
   "metadata": {},
   "outputs": [
    {
     "data": {
      "text/plain": [
       "[<tf.Variable 'conv2d_2/kernel:0' shape=(3, 3, 1, 16) dtype=float32_ref>,\n",
       " <tf.Variable 'conv2d_2/bias:0' shape=(16,) dtype=float32_ref>,\n",
       " <tf.Variable 'dense_3/kernel:0' shape=(12544, 20) dtype=float32_ref>,\n",
       " <tf.Variable 'dense_3/bias:0' shape=(20,) dtype=float32_ref>,\n",
       " <tf.Variable 'dense_4/kernel:0' shape=(20, 10) dtype=float32_ref>,\n",
       " <tf.Variable 'dense_4/bias:0' shape=(10,) dtype=float32_ref>]"
      ]
     },
     "execution_count": 3,
     "metadata": {},
     "output_type": "execute_result"
    }
   ],
   "source": [
    "modeltest.weights"
   ]
  },
  {
   "cell_type": "code",
   "execution_count": 5,
   "metadata": {},
   "outputs": [
    {
     "data": {
      "text/plain": [
       "array([[1.3940985e-24, 4.9538879e-10, 3.1110473e-24, 1.0719432e-23,\n",
       "        5.3272143e-23, 1.0829351e-20, 7.3135969e-14, 1.0000000e+00,\n",
       "        5.2915783e-19, 1.0072209e-14],\n",
       "       [4.1840327e-15, 1.0311690e-04, 9.8389316e-01, 1.5895873e-02,\n",
       "        9.1280326e-16, 4.6304115e-07, 1.2178447e-17, 2.4926544e-08,\n",
       "        1.0743958e-04, 3.1508943e-13],\n",
       "       [1.1134543e-11, 9.9999940e-01, 6.3861427e-07, 1.2866878e-14,\n",
       "        1.2873146e-09, 3.9931929e-12, 1.5190968e-17, 1.5408922e-14,\n",
       "        6.4452549e-10, 1.0041934e-14],\n",
       "       [9.6088439e-01, 3.6837508e-10, 4.4658775e-03, 5.4855172e-14,\n",
       "        4.0809545e-07, 6.6138158e-15, 1.9424165e-03, 2.2513663e-02,\n",
       "        3.3196682e-04, 9.8612541e-03],\n",
       "       [7.5651134e-13, 2.2300309e-15, 2.0042758e-10, 3.9676866e-08,\n",
       "        9.9906021e-01, 3.9075514e-12, 1.4265217e-13, 3.6085510e-11,\n",
       "        2.9497718e-08, 9.3977555e-04],\n",
       "       [3.3409072e-21, 1.0000000e+00, 2.2549078e-10, 4.1414152e-19,\n",
       "        3.3949087e-11, 3.0142127e-18, 4.3888513e-25, 1.4192148e-18,\n",
       "        7.5809766e-12, 3.0334204e-24],\n",
       "       [1.8837365e-15, 2.7233432e-22, 1.9922250e-17, 4.3251716e-10,\n",
       "        9.9999464e-01, 4.3903973e-12, 3.0300598e-14, 7.5481832e-16,\n",
       "        7.4505479e-08, 5.2486885e-06],\n",
       "       [3.3848632e-05, 5.1395382e-08, 9.6035699e-08, 4.6914496e-04,\n",
       "        8.7713666e-02, 2.7861350e-07, 2.4090737e-08, 1.4146597e-03,\n",
       "        3.7117337e-04, 9.0999699e-01],\n",
       "       [5.6008447e-02, 1.7223021e-04, 1.5516864e-04, 1.2585810e-04,\n",
       "        7.7772170e-02, 3.0555960e-03, 8.5883385e-01, 4.8290999e-04,\n",
       "        5.5946541e-05, 3.3377402e-03],\n",
       "       [2.7290770e-14, 1.1624071e-19, 3.8386968e-21, 5.0332963e-11,\n",
       "        1.9676560e-04, 6.0640131e-18, 8.0868157e-21, 2.8989396e-07,\n",
       "        2.3566715e-10, 9.9980301e-01]], dtype=float32)"
      ]
     },
     "execution_count": 5,
     "metadata": {},
     "output_type": "execute_result"
    }
   ],
   "source": [
    "modeltest.predict(x_test[:10], batch_size=100)"
   ]
  },
  {
   "cell_type": "code",
   "execution_count": null,
   "metadata": {},
   "outputs": [],
   "source": []
  },
  {
   "cell_type": "code",
   "execution_count": null,
   "metadata": {},
   "outputs": [],
   "source": []
  },
  {
   "cell_type": "code",
   "execution_count": null,
   "metadata": {},
   "outputs": [],
   "source": []
  },
  {
   "cell_type": "code",
   "execution_count": null,
   "metadata": {},
   "outputs": [],
   "source": []
  },
  {
   "cell_type": "code",
   "execution_count": null,
   "metadata": {},
   "outputs": [],
   "source": []
  },
  {
   "cell_type": "code",
   "execution_count": null,
   "metadata": {},
   "outputs": [],
   "source": []
  },
  {
   "cell_type": "code",
   "execution_count": null,
   "metadata": {},
   "outputs": [],
   "source": []
  },
  {
   "cell_type": "code",
   "execution_count": null,
   "metadata": {},
   "outputs": [],
   "source": []
  },
  {
   "cell_type": "code",
   "execution_count": 67,
   "metadata": {},
   "outputs": [],
   "source": []
  },
  {
   "cell_type": "code",
   "execution_count": null,
   "metadata": {},
   "outputs": [],
   "source": []
  }
 ],
 "metadata": {
  "kernelspec": {
   "display_name": "Python 3",
   "language": "python",
   "name": "python3"
  },
  "language_info": {
   "codemirror_mode": {
    "name": "ipython",
    "version": 3
   },
   "file_extension": ".py",
   "mimetype": "text/x-python",
   "name": "python",
   "nbconvert_exporter": "python",
   "pygments_lexer": "ipython3",
   "version": "3.6.7"
  }
 },
 "nbformat": 4,
 "nbformat_minor": 2
}
