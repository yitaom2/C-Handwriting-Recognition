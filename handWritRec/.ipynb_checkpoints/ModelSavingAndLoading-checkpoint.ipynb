{
 "cells": [
  {
   "cell_type": "code",
   "execution_count": 83,
   "metadata": {},
   "outputs": [],
   "source": [
    "from keras.models import load_model, Model\n",
    "import keras \n",
    "from keras.datasets import mnist \n",
    "from keras.models import Sequential \n",
    "from keras.layers import Convolution2D, Dense, Flatten, MaxPooling2D\n",
    "import matplotlib.pyplot as plt \n",
    "import numpy as np\n",
    "np.set_printoptions(threshold=np.inf)\n",
    "from keras.utils import to_categorical\n",
    "from keras.optimizers import Adam\n",
    "(x_train, y_train), (x_test, y_test) = mnist.load_data()\n",
    "modeltest = load_model('model/weights.h5')\n",
    "x_train = x_train.reshape(60000, 28, 28, 1)\n",
    "x_test= x_test.reshape(10000, 28, 28, 1)\n",
    "y_train = to_categorical(y_train, 10)\n",
    "y_test = to_categorical(y_test, 10)"
   ]
  },
  {
   "cell_type": "code",
   "execution_count": 84,
   "metadata": {},
   "outputs": [
    {
     "name": "stdout",
     "output_type": "stream",
     "text": [
      "10000/10000 [==============================] - 1s 87us/step\n",
      "[0.5748107750086865, 0.9330000042915344]\n"
     ]
    }
   ],
   "source": [
    "print(modeltest.evaluate(x_test, y_test, batch_size=100))"
   ]
  },
  {
   "cell_type": "code",
   "execution_count": 85,
   "metadata": {},
   "outputs": [
    {
     "data": {
      "text/plain": [
       "[<tf.Variable 'conv2d_13_1/kernel:0' shape=(3, 3, 1, 16) dtype=float32_ref>,\n",
       " <tf.Variable 'conv2d_13_1/bias:0' shape=(16,) dtype=float32_ref>,\n",
       " <tf.Variable 'dense_23_1/kernel:0' shape=(3136, 20) dtype=float32_ref>,\n",
       " <tf.Variable 'dense_23_1/bias:0' shape=(20,) dtype=float32_ref>,\n",
       " <tf.Variable 'dense_24_1/kernel:0' shape=(20, 10) dtype=float32_ref>,\n",
       " <tf.Variable 'dense_24_1/bias:0' shape=(10,) dtype=float32_ref>]"
      ]
     },
     "execution_count": 85,
     "metadata": {},
     "output_type": "execute_result"
    }
   ],
   "source": [
    "modeltest.weights"
   ]
  },
  {
   "cell_type": "code",
   "execution_count": 86,
   "metadata": {},
   "outputs": [
    {
     "data": {
      "text/plain": [
       "array([[1.00924271e-24, 1.46509204e-26, 3.34818613e-32, 1.41868569e-16,\n",
       "        5.52101619e-28, 1.76495440e-26, 3.41775825e-15, 1.00000000e+00,\n",
       "        1.84500490e-19, 5.01453302e-20],\n",
       "       [2.06163593e-29, 6.64888131e-35, 1.00000000e+00, 2.03743528e-32,\n",
       "        0.00000000e+00, 1.35514750e-28, 2.50982448e-28, 0.00000000e+00,\n",
       "        5.56671880e-35, 0.00000000e+00],\n",
       "       [5.03799485e-15, 9.99999881e-01, 6.19676546e-16, 1.22830741e-07,\n",
       "        1.49615116e-13, 6.84810785e-16, 1.74024458e-11, 9.45384653e-15,\n",
       "        6.42159126e-09, 5.08284650e-19],\n",
       "       [1.00000000e+00, 0.00000000e+00, 5.62967363e-20, 1.52453839e-23,\n",
       "        6.18057553e-37, 5.98284323e-35, 3.65637004e-22, 4.96006357e-28,\n",
       "        3.08515281e-32, 1.09994185e-29],\n",
       "       [1.06348519e-20, 7.72053750e-23, 4.60709252e-27, 8.26348078e-32,\n",
       "        1.00000000e+00, 1.72247154e-19, 2.63423906e-21, 2.23190485e-17,\n",
       "        4.63582550e-21, 6.04760613e-17],\n",
       "       [4.38851605e-25, 1.00000000e+00, 3.45302166e-16, 9.09897158e-13,\n",
       "        1.16593999e-20, 1.77195293e-23, 9.01555984e-22, 4.20580346e-13,\n",
       "        1.10907334e-12, 4.34206684e-28],\n",
       "       [5.23610986e-26, 7.33696198e-13, 1.25872329e-28, 1.43469486e-23,\n",
       "        9.99994397e-01, 2.53163292e-17, 1.86003872e-20, 6.20022410e-18,\n",
       "        5.63293679e-06, 7.42103837e-25],\n",
       "       [3.10932926e-30, 4.66918103e-14, 1.57775391e-13, 8.55672299e-22,\n",
       "        1.08316882e-12, 6.99124534e-18, 1.14256891e-20, 1.21457183e-18,\n",
       "        5.36342956e-15, 1.00000000e+00],\n",
       "       [5.31976019e-10, 1.28678494e-07, 4.58868256e-11, 5.14660825e-17,\n",
       "        1.69344395e-01, 8.30655336e-01, 1.47897514e-10, 3.36455555e-26,\n",
       "        4.09719156e-08, 1.48351191e-07],\n",
       "       [6.93903746e-25, 8.73799758e-33, 6.60743471e-29, 5.20935462e-29,\n",
       "        3.20078301e-14, 1.90810243e-25, 1.01556042e-25, 2.16874807e-09,\n",
       "        1.22334320e-08, 1.00000000e+00]], dtype=float32)"
      ]
     },
     "execution_count": 86,
     "metadata": {},
     "output_type": "execute_result"
    }
   ],
   "source": [
    "modeltest.predict(x_test[:10], batch_size=100)"
   ]
  },
  {
   "cell_type": "code",
   "execution_count": 88,
   "metadata": {},
   "outputs": [
    {
     "name": "stderr",
     "output_type": "stream",
     "text": [
      "/home/yitao/.local/lib/python3.6/site-packages/ipykernel_launcher.py:2: UserWarning: Update your `Model` call to the Keras 2 API: `Model(inputs=Tensor(\"co..., outputs=Tensor(\"de...)`\n",
      "  \n"
     ]
    }
   ],
   "source": [
    "intermediate_layer_model = Model(input=modeltest.input,\n",
    "                                output=modeltest.get_layer(index = 4).output)\n",
    "intermediate_output = intermediate_layer_model.predict(x_test[:10])"
   ]
  },
  {
   "cell_type": "code",
   "execution_count": 89,
   "metadata": {},
   "outputs": [
    {
     "data": {
      "text/plain": [
       "(10, 10)"
      ]
     },
     "execution_count": 89,
     "metadata": {},
     "output_type": "execute_result"
    }
   ],
   "source": [
    "np.shape(intermediate_output)"
   ]
  },
  {
   "cell_type": "code",
   "execution_count": 92,
   "metadata": {},
   "outputs": [
    {
     "data": {
      "text/plain": [
       "array([5.0379948e-15, 9.9999988e-01, 6.1967655e-16, 1.2283074e-07,\n",
       "       1.4961512e-13, 6.8481079e-16, 1.7402446e-11, 9.4538465e-15,\n",
       "       6.4215913e-09, 5.0828465e-19], dtype=float32)"
      ]
     },
     "execution_count": 92,
     "metadata": {},
     "output_type": "execute_result"
    }
   ],
   "source": [
    "intermediate_output[2]"
   ]
  },
  {
   "cell_type": "code",
   "execution_count": null,
   "metadata": {},
   "outputs": [],
   "source": []
  },
  {
   "cell_type": "code",
   "execution_count": null,
   "metadata": {},
   "outputs": [],
   "source": []
  },
  {
   "cell_type": "code",
   "execution_count": null,
   "metadata": {},
   "outputs": [],
   "source": []
  },
  {
   "cell_type": "code",
   "execution_count": null,
   "metadata": {},
   "outputs": [],
   "source": []
  },
  {
   "cell_type": "code",
   "execution_count": null,
   "metadata": {},
   "outputs": [],
   "source": []
  },
  {
   "cell_type": "code",
   "execution_count": 67,
   "metadata": {},
   "outputs": [],
   "source": []
  },
  {
   "cell_type": "code",
   "execution_count": null,
   "metadata": {},
   "outputs": [],
   "source": []
  }
 ],
 "metadata": {
  "kernelspec": {
   "display_name": "Python 3",
   "language": "python",
   "name": "python3"
  },
  "language_info": {
   "codemirror_mode": {
    "name": "ipython",
    "version": 3
   },
   "file_extension": ".py",
   "mimetype": "text/x-python",
   "name": "python",
   "nbconvert_exporter": "python",
   "pygments_lexer": "ipython3",
   "version": "3.6.7"
  }
 },
 "nbformat": 4,
 "nbformat_minor": 2
}
