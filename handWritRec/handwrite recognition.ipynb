{
 "cells": [
  {
   "cell_type": "code",
   "execution_count": 49,
   "metadata": {},
   "outputs": [],
   "source": [
    "import keras \n",
    "from keras.datasets import mnist \n",
    "from keras.models import Sequential \n",
    "from keras.layers import Convolution2D, Dense, Flatten, MaxPooling2D\n",
    "import matplotlib.pyplot as plt \n",
    "import numpy as np\n",
    "from keras.utils import to_categorical\n",
    "from keras.optimizers import Adam"
   ]
  },
  {
   "cell_type": "code",
   "execution_count": 97,
   "metadata": {},
   "outputs": [],
   "source": [
    "(x_train, y_train), (x_test, y_test) = mnist.load_data()\n",
    "x_train = x_train.reshape(60000, 28, 28, 1)\n",
    "x_test= x_test.reshape(10000, 28, 28, 1)\n",
    "y_train = to_categorical(y_train, 10)\n",
    "y_test = to_categorical(y_test, 10)\n",
    "for i in range(10000):\n",
    "    a = \"image/x_test/\" + str(i)\n",
    "    b = \"image/y_test/\" + str(i)\n",
    "    np.savetxt(a, x_test[i,:,:,0])\n",
    "    np.savetxt(b, y_test[i])"
   ]
  },
  {
   "cell_type": "code",
   "execution_count": 98,
   "metadata": {},
   "outputs": [],
   "source": [
    "model = Sequential()\n",
    "model.add(Convolution2D(16, (3, 3), padding=\"SAME\", input_shape=(28, 28, 1)))\n",
    "model.add(MaxPooling2D(pool_size=(2, 2),strides=(2, 2),padding='SAME'))\n",
    "\n",
    "model.add(Flatten())\n",
    "model.add(Dense(units=20, activation=\"relu\"))\n",
    "model.add(Dense(units=10, activation=\"softmax\"))\n",
    "adam = Adam(lr=0.0001)\n",
    "model.compile(optimizer=adam,loss='categorical_crossentropy',metrics=['accuracy'])"
   ]
  },
  {
   "cell_type": "code",
   "execution_count": 99,
   "metadata": {},
   "outputs": [
    {
     "name": "stdout",
     "output_type": "stream",
     "text": [
      "Epoch 1/5\n",
      "60000/60000 [==============================] - 10s 162us/step - loss: 5.0178 - acc: 0.5843\n",
      "Epoch 2/5\n",
      "60000/60000 [==============================] - 9s 148us/step - loss: 0.7838 - acc: 0.8040\n",
      "Epoch 3/5\n",
      "60000/60000 [==============================] - 9s 150us/step - loss: 0.5041 - acc: 0.8812\n",
      "Epoch 4/5\n",
      "60000/60000 [==============================] - 9s 151us/step - loss: 0.3921 - acc: 0.9045\n",
      "Epoch 5/5\n",
      "60000/60000 [==============================] - 9s 151us/step - loss: 0.3140 - acc: 0.9221\n"
     ]
    },
    {
     "data": {
      "text/plain": [
       "<keras.callbacks.History at 0x7f072ed09be0>"
      ]
     },
     "execution_count": 99,
     "metadata": {},
     "output_type": "execute_result"
    }
   ],
   "source": [
    "model.fit(x_train, y_train, batch_size=100, epochs=5)"
   ]
  },
  {
   "cell_type": "code",
   "execution_count": 100,
   "metadata": {},
   "outputs": [
    {
     "name": "stdout",
     "output_type": "stream",
     "text": [
      "10000/10000 [==============================] - 1s 89us/step\n",
      "[0.3163654836453497, 0.9234000045061111]\n"
     ]
    }
   ],
   "source": [
    "print(model.evaluate(x_test, y_test, batch_size=100))"
   ]
  },
  {
   "cell_type": "code",
   "execution_count": 101,
   "metadata": {},
   "outputs": [],
   "source": [
    "model.save('model/weights.h5') #保存权重"
   ]
  },
  {
   "cell_type": "code",
   "execution_count": 102,
   "metadata": {},
   "outputs": [
    {
     "data": {
      "text/plain": [
       "[<tf.Variable 'conv2d_16/kernel:0' shape=(3, 3, 1, 16) dtype=float32_ref>,\n",
       " <tf.Variable 'conv2d_16/bias:0' shape=(16,) dtype=float32_ref>,\n",
       " <tf.Variable 'dense_29/kernel:0' shape=(3136, 20) dtype=float32_ref>,\n",
       " <tf.Variable 'dense_29/bias:0' shape=(20,) dtype=float32_ref>,\n",
       " <tf.Variable 'dense_30/kernel:0' shape=(20, 10) dtype=float32_ref>,\n",
       " <tf.Variable 'dense_30/bias:0' shape=(10,) dtype=float32_ref>]"
      ]
     },
     "execution_count": 102,
     "metadata": {},
     "output_type": "execute_result"
    }
   ],
   "source": [
    "model.weights"
   ]
  },
  {
   "cell_type": "code",
   "execution_count": 107,
   "metadata": {},
   "outputs": [],
   "source": [
    "convCount = 1;\n",
    "denseCount = 1;\n",
    "for layer in model.layers:\n",
    "    weights = layer.get_weights()\n",
    "    if weights == []:\n",
    "        continue\n",
    "    if str(layer).find('Conv2D') != -1:\n",
    "        layerNum = np.shape(layer.get_weights()[0])[3]\n",
    "        imageNum = np.shape(layer.get_weights()[0])[2]\n",
    "        biasname = \"layerData/Conv\" + str(convCount) + \"/bias\"\n",
    "        np.savetxt(biasname, weights[1])\n",
    "        for j in range(imageNum):\n",
    "            for i in range(layerNum):\n",
    "                filename = \"layerData/Conv\" + str(convCount) + \"/imageNum\" + str(j + 1) + \"/\" + str(i)\n",
    "                np.savetxt(filename, weights[0][:,:,j,i])\n",
    "        convCount += 1\n",
    "    elif str(layer).find('Dense') != -1:\n",
    "        np.savetxt(\"layerData/Dense\" + str(denseCount) + \"/weight\", weights[0])\n",
    "        np.savetxt(\"layerData/Dense\" + str(denseCount) + \"/bias\", weights[1])\n",
    "        denseCount += 1"
   ]
  },
  {
   "cell_type": "code",
   "execution_count": null,
   "metadata": {},
   "outputs": [],
   "source": []
  },
  {
   "cell_type": "code",
   "execution_count": null,
   "metadata": {},
   "outputs": [],
   "source": []
  },
  {
   "cell_type": "code",
   "execution_count": null,
   "metadata": {},
   "outputs": [],
   "source": []
  }
 ],
 "metadata": {
  "kernelspec": {
   "display_name": "Python 3",
   "language": "python",
   "name": "python3"
  },
  "language_info": {
   "codemirror_mode": {
    "name": "ipython",
    "version": 3
   },
   "file_extension": ".py",
   "mimetype": "text/x-python",
   "name": "python",
   "nbconvert_exporter": "python",
   "pygments_lexer": "ipython3",
   "version": "3.6.7"
  }
 },
 "nbformat": 4,
 "nbformat_minor": 2
}
