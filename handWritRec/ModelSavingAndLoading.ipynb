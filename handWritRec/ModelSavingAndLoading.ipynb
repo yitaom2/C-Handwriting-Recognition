{
 "cells": [
  {
   "cell_type": "code",
   "execution_count": 1,
   "metadata": {},
   "outputs": [
    {
     "name": "stderr",
     "output_type": "stream",
     "text": [
      "Using TensorFlow backend.\n",
      "WARNING: Logging before flag parsing goes to stderr.\n",
      "W0723 01:40:15.932804 140192516040512 deprecation_wrapper.py:119] From /home/yitao/.local/lib/python3.6/site-packages/keras/backend/tensorflow_backend.py:517: The name tf.placeholder is deprecated. Please use tf.compat.v1.placeholder instead.\n",
      "\n",
      "W0723 01:40:15.945716 140192516040512 deprecation_wrapper.py:119] From /home/yitao/.local/lib/python3.6/site-packages/keras/backend/tensorflow_backend.py:4138: The name tf.random_uniform is deprecated. Please use tf.random.uniform instead.\n",
      "\n",
      "W0723 01:40:15.964764 140192516040512 deprecation_wrapper.py:119] From /home/yitao/.local/lib/python3.6/site-packages/keras/backend/tensorflow_backend.py:3976: The name tf.nn.max_pool is deprecated. Please use tf.nn.max_pool2d instead.\n",
      "\n",
      "W0723 01:40:16.083284 140192516040512 deprecation_wrapper.py:119] From /home/yitao/.local/lib/python3.6/site-packages/keras/backend/tensorflow_backend.py:174: The name tf.get_default_session is deprecated. Please use tf.compat.v1.get_default_session instead.\n",
      "\n",
      "W0723 01:40:16.084219 140192516040512 deprecation_wrapper.py:119] From /home/yitao/.local/lib/python3.6/site-packages/keras/backend/tensorflow_backend.py:181: The name tf.ConfigProto is deprecated. Please use tf.compat.v1.ConfigProto instead.\n",
      "\n",
      "W0723 01:40:16.085055 140192516040512 deprecation_wrapper.py:119] From /home/yitao/.local/lib/python3.6/site-packages/keras/backend/tensorflow_backend.py:186: The name tf.Session is deprecated. Please use tf.compat.v1.Session instead.\n",
      "\n",
      "W0723 01:40:16.221022 140192516040512 deprecation_wrapper.py:119] From /home/yitao/.local/lib/python3.6/site-packages/keras/optimizers.py:790: The name tf.train.Optimizer is deprecated. Please use tf.compat.v1.train.Optimizer instead.\n",
      "\n",
      "W0723 01:40:16.336417 140192516040512 deprecation.py:323] From /home/yitao/.local/lib/python3.6/site-packages/tensorflow/python/ops/math_grad.py:1250: add_dispatch_support.<locals>.wrapper (from tensorflow.python.ops.array_ops) is deprecated and will be removed in a future version.\n",
      "Instructions for updating:\n",
      "Use tf.where in 2.0, which has the same broadcast rule as np.where\n"
     ]
    }
   ],
   "source": [
    "from keras.models import load_model, Model\n",
    "import keras \n",
    "from keras.datasets import mnist \n",
    "from keras.models import Sequential \n",
    "from keras.layers import Convolution2D, Dense, Flatten, MaxPooling2D\n",
    "import matplotlib.pyplot as plt \n",
    "import numpy as np\n",
    "np.set_printoptions(threshold=np.inf)\n",
    "from keras.utils import to_categorical\n",
    "from keras.optimizers import Adam\n",
    "(x_train, y_train), (x_test, y_test) = mnist.load_data()\n",
    "modeltest = load_model('model/weights.h5')\n",
    "x_train = x_train.reshape(60000, 28, 28, 1)\n",
    "x_test= x_test.reshape(10000, 28, 28, 1)\n",
    "y_train = to_categorical(y_train, 10)\n",
    "y_test = to_categorical(y_test, 10)"
   ]
  },
  {
   "cell_type": "code",
   "execution_count": 2,
   "metadata": {},
   "outputs": [
    {
     "name": "stdout",
     "output_type": "stream",
     "text": [
      "10000/10000 [==============================] - 8s 815us/step\n",
      "[0.15182011344382773, 0.9671000051498413]\n"
     ]
    }
   ],
   "source": [
    "print(modeltest.evaluate(x_test, y_test, batch_size=100))"
   ]
  },
  {
   "cell_type": "code",
   "execution_count": null,
   "metadata": {},
   "outputs": [],
   "source": []
  },
  {
   "cell_type": "code",
   "execution_count": 3,
   "metadata": {},
   "outputs": [
    {
     "data": {
      "text/plain": [
       "array([[2.82123908e-10, 3.22393073e-13, 2.91971007e-20, 6.76712375e-08,\n",
       "        9.08889222e-16, 7.06193391e-15, 1.42666752e-17, 9.99888778e-01,\n",
       "        6.72879530e-19, 1.11048474e-04],\n",
       "       [7.19245020e-19, 1.95854837e-14, 1.00000000e+00, 7.33786627e-18,\n",
       "        1.43176516e-18, 3.95762832e-22, 1.99748567e-18, 1.05496757e-20,\n",
       "        1.20580183e-16, 5.04722437e-24],\n",
       "       [1.87573846e-06, 9.99998093e-01, 6.51563525e-11, 1.76230184e-17,\n",
       "        1.49468487e-21, 5.86845161e-14, 3.75334416e-11, 1.86832125e-22,\n",
       "        4.16430993e-21, 2.43033624e-14],\n",
       "       [9.99520779e-01, 1.24573571e-05, 8.13125226e-17, 5.70564411e-16,\n",
       "        6.42770559e-12, 2.57109818e-08, 4.53566056e-04, 8.86799353e-06,\n",
       "        2.56632515e-09, 4.31356830e-06],\n",
       "       [3.50798751e-10, 1.07113164e-17, 2.95899127e-07, 1.09917743e-21,\n",
       "        9.99975920e-01, 8.27113104e-14, 1.17638433e-06, 2.25961230e-05,\n",
       "        4.24191815e-19, 7.07811495e-14],\n",
       "       [1.66643886e-07, 9.99999881e-01, 8.87827811e-10, 3.40654545e-18,\n",
       "        2.09029530e-21, 1.58133896e-13, 4.79543976e-14, 1.18429110e-21,\n",
       "        7.46308922e-19, 1.92420009e-15],\n",
       "       [3.92697652e-09, 1.06336918e-10, 5.17898002e-07, 1.25623581e-10,\n",
       "        9.78030324e-01, 2.63614712e-08, 3.39976168e-06, 2.18462199e-02,\n",
       "        1.19534459e-04, 8.45294856e-09],\n",
       "       [6.77650720e-02, 1.10391853e-02, 5.24510257e-03, 1.70712723e-04,\n",
       "        5.86965543e-05, 2.22894643e-03, 2.21005507e-06, 1.33991207e-05,\n",
       "        1.59717492e-05, 9.13460672e-01],\n",
       "       [6.39228674e-05, 1.46677736e-02, 7.30796500e-13, 8.29516475e-15,\n",
       "        1.61877074e-06, 9.67651784e-01, 1.76146701e-02, 1.02033603e-07,\n",
       "        1.42247698e-11, 1.78925873e-07],\n",
       "       [6.33150732e-09, 1.63912734e-14, 4.22218554e-16, 1.16467157e-15,\n",
       "        2.95740030e-11, 1.39063037e-16, 4.70909244e-31, 1.39669804e-10,\n",
       "        4.33348885e-16, 1.00000000e+00]], dtype=float32)"
      ]
     },
     "execution_count": 3,
     "metadata": {},
     "output_type": "execute_result"
    }
   ],
   "source": [
    "modeltest.predict(x_test[:10], batch_size=100)"
   ]
  },
  {
   "cell_type": "code",
   "execution_count": 4,
   "metadata": {},
   "outputs": [
    {
     "name": "stderr",
     "output_type": "stream",
     "text": [
      "/home/yitao/.local/lib/python3.6/site-packages/ipykernel_launcher.py:2: UserWarning: Update your `Model` call to the Keras 2 API: `Model(inputs=Tensor(\"co..., outputs=Tensor(\"co...)`\n",
      "  \n"
     ]
    }
   ],
   "source": [
    "intermediate_layer_model = Model(input=modeltest.input,\n",
    "                                output=modeltest.get_layer(index = 2).output)\n",
    "intermediate_output = intermediate_layer_model.predict(x_test[:100])"
   ]
  },
  {
   "cell_type": "code",
   "execution_count": 5,
   "metadata": {},
   "outputs": [
    {
     "data": {
      "text/plain": [
       "(100, 14, 14, 256)"
      ]
     },
     "execution_count": 5,
     "metadata": {},
     "output_type": "execute_result"
    }
   ],
   "source": [
    "np.shape(intermediate_output)"
   ]
  },
  {
   "cell_type": "code",
   "execution_count": 57,
   "metadata": {
    "scrolled": true
   },
   "outputs": [
    {
     "data": {
      "text/plain": [
       "array([[-7.81409722e-03, -8.34330358e-03, -8.34330358e-03,\n",
       "        -8.34330358e-03, -8.34330358e-03, -8.34330358e-03,\n",
       "        -8.34330358e-03, -8.34330358e-03, -8.34330358e-03,\n",
       "        -8.34330358e-03, -8.34330358e-03, -8.34330358e-03,\n",
       "        -8.34330358e-03, -1.89454295e-03],\n",
       "       [-3.20576504e-03,  4.91804769e-03,  4.91804769e-03,\n",
       "         4.91804769e-03,  4.91804769e-03,  4.91804769e-03,\n",
       "         4.91804769e-03,  4.91804769e-03,  4.91804769e-03,\n",
       "         4.91804769e-03,  4.91804769e-03,  4.91804769e-03,\n",
       "         4.91804769e-03,  5.51841781e-03],\n",
       "       [-3.20576504e-03, -7.47250366e+00, -6.16584158e+00,\n",
       "        -1.00071325e+01, -7.69885635e+00,  4.45957375e+00,\n",
       "        -7.72664487e-01, -1.60742486e+00, -1.37816644e+00,\n",
       "         1.53752661e+00,  6.22432804e+00,  4.38328791e+00,\n",
       "         3.12630028e-01,  5.51841781e-03],\n",
       "       [-3.20576504e-03,  9.86070824e+00,  3.97326813e+01,\n",
       "         4.13393555e+01,  3.10819664e+01,  1.16620922e+01,\n",
       "         1.41880064e+01,  1.81720905e+01,  1.33598013e+01,\n",
       "         1.47264261e+01,  1.44476385e+01,  1.37206573e+01,\n",
       "        -6.50247037e-01,  5.51841781e-03],\n",
       "       [-3.20576504e-03,  1.65197830e+01,  1.04631042e+01,\n",
       "         1.22432537e+01, -3.20843315e+00,  2.94804211e+01,\n",
       "         4.55935631e+01,  5.25321007e+01,  6.02092209e+01,\n",
       "         6.48404465e+01,  6.42199707e+01,  1.48080673e+01,\n",
       "        -2.09230852e+00,  5.51841781e-03],\n",
       "       [-3.20576504e-03,  1.62915552e+00, -2.59766912e+00,\n",
       "        -1.09768219e+01, -1.88902378e+01, -1.81015091e+01,\n",
       "        -2.22966080e+01, -1.15365362e+01,  1.19373121e+01,\n",
       "         8.56072807e+00,  1.02641964e+01, -7.18347931e+00,\n",
       "        -2.07931352e+00,  5.51841781e-03],\n",
       "       [-3.20576504e-03, -2.43909931e+00, -3.63023734e+00,\n",
       "        -3.39027572e+00, -6.05577946e+00, -8.49424076e+00,\n",
       "        -1.41261854e+01,  5.92018652e+00,  2.66903801e+01,\n",
       "         3.83835335e+01, -1.81148481e+00, -1.14262705e+01,\n",
       "         1.89841285e-01,  5.51841781e-03],\n",
       "       [-3.20576504e-03,  4.91804769e-03,  4.91804769e-03,\n",
       "         4.91804769e-03,  4.91804769e-03, -2.17806983e+00,\n",
       "         1.16879902e+01,  2.64651241e+01,  3.09079208e+01,\n",
       "         2.10577831e+01, -9.95696831e+00, -2.47765347e-01,\n",
       "         3.73589061e-03,  5.51841781e-03],\n",
       "       [-3.20576504e-03,  4.91804769e-03,  4.91804769e-03,\n",
       "         4.91804769e-03, -8.24014544e-02, -1.47158563e+00,\n",
       "         2.58427734e+01,  2.47900181e+01,  2.71244068e+01,\n",
       "        -6.50093508e+00, -8.81045723e+00, -6.55489564e-01,\n",
       "         4.91804769e-03,  5.51841781e-03],\n",
       "       [-3.20576504e-03,  4.91804769e-03,  4.91804769e-03,\n",
       "         4.91804769e-03, -7.07228279e+00,  1.22947178e+01,\n",
       "         4.49841080e+01,  3.49596748e+01,  6.47503662e+00,\n",
       "        -1.09441242e+01, -7.96703935e-01,  4.58966801e-03,\n",
       "         4.91804769e-03,  5.51841781e-03],\n",
       "       [-3.20576504e-03,  4.91804769e-03,  4.91804769e-03,\n",
       "        -1.77057838e+00,  7.96815157e+00,  3.31302872e+01,\n",
       "         3.41920319e+01,  1.49059267e+01, -7.70103168e+00,\n",
       "        -6.96975136e+00, -3.96340549e-01,  4.91804769e-03,\n",
       "         4.91804769e-03,  5.51841781e-03],\n",
       "       [-3.20576504e-03,  4.91804769e-03,  4.91804769e-03,\n",
       "        -1.64407599e+00,  2.39845009e+01,  2.87003422e+01,\n",
       "         2.63785076e+01,  7.59771776e+00, -2.23331337e+01,\n",
       "        -1.68834090e+00,  4.91804769e-03,  4.91804769e-03,\n",
       "         4.91804769e-03,  5.51841781e-03],\n",
       "       [-3.20576504e-03,  4.91804769e-03,  4.91804769e-03,\n",
       "         1.05640831e+01,  3.24614182e+01,  5.04755363e+01,\n",
       "        -1.29410238e+01,  5.76836967e+00, -4.33078575e+00,\n",
       "        -6.77123200e-03,  4.91804769e-03,  4.91804769e-03,\n",
       "         4.91804769e-03,  5.51841781e-03],\n",
       "       [ 7.31167430e-03,  1.40242828e-02,  1.40242828e-02,\n",
       "         8.20310593e+00,  1.37799301e+01, -1.60174026e+01,\n",
       "        -1.85578766e+01, -4.09368181e+00, -1.48226249e+00,\n",
       "         1.40242828e-02,  1.40242828e-02,  1.40242828e-02,\n",
       "         1.40242828e-02,  7.31775723e-03]], dtype=float32)"
      ]
     },
     "execution_count": 57,
     "metadata": {},
     "output_type": "execute_result"
    }
   ],
   "source": [
    "intermediate_output[0,:,:,0]"
   ]
  },
  {
   "cell_type": "code",
   "execution_count": 30,
   "metadata": {},
   "outputs": [
    {
     "name": "stdout",
     "output_type": "stream",
     "text": [
      "-4.017167091369629\n"
     ]
    }
   ],
   "source": [
    "print(\"%.15f\" % intermediate_output[0,6,5,0])"
   ]
  },
  {
   "cell_type": "code",
   "execution_count": 34,
   "metadata": {},
   "outputs": [
    {
     "data": {
      "text/plain": [
       "-4.017167099751532"
      ]
     },
     "execution_count": 34,
     "metadata": {},
     "output_type": "execute_result"
    }
   ],
   "source": [
    "-0.047661282122135162353515625000 * 84 -0.013619401492178440093994140625"
   ]
  },
  {
   "cell_type": "code",
   "execution_count": 32,
   "metadata": {},
   "outputs": [
    {
     "data": {
      "text/plain": [
       "2.0865209190692505e-09"
      ]
     },
     "execution_count": 32,
     "metadata": {},
     "output_type": "execute_result"
    }
   ],
   "source": [
    "-8.381903171539307e-09 / -4.017167091369629"
   ]
  },
  {
   "cell_type": "code",
   "execution_count": null,
   "metadata": {},
   "outputs": [],
   "source": []
  },
  {
   "cell_type": "code",
   "execution_count": null,
   "metadata": {},
   "outputs": [],
   "source": []
  },
  {
   "cell_type": "code",
   "execution_count": 67,
   "metadata": {},
   "outputs": [],
   "source": []
  },
  {
   "cell_type": "code",
   "execution_count": null,
   "metadata": {},
   "outputs": [],
   "source": []
  }
 ],
 "metadata": {
  "kernelspec": {
   "display_name": "Python 3",
   "language": "python",
   "name": "python3"
  },
  "language_info": {
   "codemirror_mode": {
    "name": "ipython",
    "version": 3
   },
   "file_extension": ".py",
   "mimetype": "text/x-python",
   "name": "python",
   "nbconvert_exporter": "python",
   "pygments_lexer": "ipython3",
   "version": "3.6.7"
  }
 },
 "nbformat": 4,
 "nbformat_minor": 2
}
