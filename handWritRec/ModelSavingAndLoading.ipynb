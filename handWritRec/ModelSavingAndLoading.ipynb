{
 "cells": [
  {
   "cell_type": "code",
   "execution_count": 8,
   "metadata": {},
   "outputs": [],
   "source": [
    "from keras.models import load_model, Model\n",
    "import keras \n",
    "from keras.datasets import mnist \n",
    "from keras.models import Sequential \n",
    "from keras.layers import Convolution2D, Dense, Flatten, MaxPooling2D\n",
    "import matplotlib.pyplot as plt \n",
    "import numpy as np\n",
    "np.set_printoptions(threshold=np.inf)\n",
    "from keras.utils import to_categorical\n",
    "from keras.optimizers import Adam\n",
    "(x_train, y_train), (x_test, y_test) = mnist.load_data()\n",
    "modeltest = load_model('model/weights.h5')\n",
    "x_train = x_train.reshape(60000, 28, 28, 1)\n",
    "x_test= x_test.reshape(10000, 28, 28, 1)\n",
    "y_train = to_categorical(y_train, 10)\n",
    "y_test = to_categorical(y_test, 10)"
   ]
  },
  {
   "cell_type": "code",
   "execution_count": 9,
   "metadata": {},
   "outputs": [
    {
     "name": "stdout",
     "output_type": "stream",
     "text": [
      "10000/10000 [==============================] - 1s 77us/step\n",
      "[0.34799306131899355, 0.9302000021934509]\n"
     ]
    }
   ],
   "source": [
    "print(modeltest.evaluate(x_test, y_test, batch_size=100))"
   ]
  },
  {
   "cell_type": "code",
   "execution_count": 10,
   "metadata": {},
   "outputs": [
    {
     "data": {
      "text/plain": [
       "[<tf.Variable 'conv2d_1_1/kernel:0' shape=(4, 4, 1, 16) dtype=float32_ref>,\n",
       " <tf.Variable 'conv2d_1_1/bias:0' shape=(16,) dtype=float32_ref>,\n",
       " <tf.Variable 'dense_1_1/kernel:0' shape=(9216, 20) dtype=float32_ref>,\n",
       " <tf.Variable 'dense_1_1/bias:0' shape=(20,) dtype=float32_ref>,\n",
       " <tf.Variable 'dense_2_1/kernel:0' shape=(20, 10) dtype=float32_ref>,\n",
       " <tf.Variable 'dense_2_1/bias:0' shape=(10,) dtype=float32_ref>]"
      ]
     },
     "execution_count": 10,
     "metadata": {},
     "output_type": "execute_result"
    }
   ],
   "source": [
    "modeltest.weights"
   ]
  },
  {
   "cell_type": "code",
   "execution_count": 11,
   "metadata": {},
   "outputs": [
    {
     "data": {
      "text/plain": [
       "array([[1.53303358e-06, 3.95839925e-06, 2.00674410e-08, 4.05223050e-10,\n",
       "        2.68545493e-22, 2.32148345e-08, 3.48134719e-18, 9.99000728e-01,\n",
       "        3.05857043e-20, 9.93786263e-04],\n",
       "       [2.58374939e-07, 9.95442923e-03, 8.65744591e-01, 4.40721720e-04,\n",
       "        9.15256777e-08, 1.38084755e-09, 3.24951397e-04, 1.07598819e-01,\n",
       "        8.25035113e-06, 1.59278680e-02],\n",
       "       [2.25987369e-05, 9.99938965e-01, 2.31230209e-11, 4.67361393e-12,\n",
       "        1.85614246e-10, 2.33482700e-09, 1.68692820e-11, 1.29632966e-07,\n",
       "        3.82851576e-05, 6.53193541e-11],\n",
       "       [9.49532747e-01, 1.24655492e-06, 1.08508139e-07, 4.42677930e-07,\n",
       "        2.64831297e-02, 2.98027825e-09, 2.29946636e-02, 1.80754633e-10,\n",
       "        1.30442068e-05, 9.74725001e-04],\n",
       "       [1.80067764e-06, 5.74431093e-11, 3.98705708e-08, 7.25609406e-10,\n",
       "        9.99524117e-01, 2.75091327e-08, 3.72551157e-10, 7.01973618e-11,\n",
       "        3.81018394e-12, 4.74129105e-04],\n",
       "       [3.41992887e-08, 1.00000000e+00, 8.44854352e-17, 4.42619217e-18,\n",
       "        3.26387206e-16, 8.86221774e-15, 3.00201612e-17, 4.05701722e-11,\n",
       "        5.40846408e-08, 3.24958526e-16],\n",
       "       [1.44060153e-10, 2.48153853e-09, 8.23975552e-06, 4.09586837e-10,\n",
       "        9.99107063e-01, 8.37488740e-04, 3.65323853e-14, 6.15429201e-07,\n",
       "        2.54608529e-10, 4.66144847e-05],\n",
       "       [1.07040742e-05, 8.05709790e-03, 1.35699026e-02, 1.31689603e-05,\n",
       "        9.49138193e-04, 7.24638303e-05, 7.40825053e-05, 4.28173097e-09,\n",
       "        5.01978211e-03, 9.72233653e-01],\n",
       "       [2.60469091e-10, 2.83998958e-07, 7.00376974e-03, 1.76392296e-05,\n",
       "        3.95866819e-02, 9.11488473e-01, 4.78334082e-12, 4.11070660e-02,\n",
       "        1.04199460e-09, 7.96066248e-04],\n",
       "       [1.07713205e-07, 2.52754008e-03, 1.83013908e-04, 1.97936423e-09,\n",
       "        1.24457606e-11, 7.15085548e-07, 8.39312821e-12, 8.04240763e-09,\n",
       "        4.53099958e-09, 9.97288585e-01]], dtype=float32)"
      ]
     },
     "execution_count": 11,
     "metadata": {},
     "output_type": "execute_result"
    }
   ],
   "source": [
    "modeltest.predict(x_test[:10], batch_size=100)"
   ]
  },
  {
   "cell_type": "code",
   "execution_count": 12,
   "metadata": {},
   "outputs": [
    {
     "name": "stderr",
     "output_type": "stream",
     "text": [
      "/home/yitao/.local/lib/python3.6/site-packages/ipykernel_launcher.py:2: UserWarning: Update your `Model` call to the Keras 2 API: `Model(inputs=Tensor(\"co..., outputs=Tensor(\"de...)`\n",
      "  \n"
     ]
    }
   ],
   "source": [
    "intermediate_layer_model = Model(input=modeltest.input,\n",
    "                                output=modeltest.get_layer(index = 4).output)\n",
    "intermediate_output = intermediate_layer_model.predict(x_test[:100])"
   ]
  },
  {
   "cell_type": "code",
   "execution_count": 13,
   "metadata": {},
   "outputs": [
    {
     "data": {
      "text/plain": [
       "(100, 10)"
      ]
     },
     "execution_count": 13,
     "metadata": {},
     "output_type": "execute_result"
    }
   ],
   "source": [
    "np.shape(intermediate_output)"
   ]
  },
  {
   "cell_type": "code",
   "execution_count": 15,
   "metadata": {},
   "outputs": [
    {
     "data": {
      "text/plain": [
       "array([[1.53303358e-06, 3.95839925e-06, 2.00674410e-08, 4.05223050e-10,\n",
       "        2.68545493e-22, 2.32148345e-08, 3.48134719e-18, 9.99000728e-01,\n",
       "        3.05857043e-20, 9.93786263e-04],\n",
       "       [2.58374939e-07, 9.95442923e-03, 8.65744591e-01, 4.40721720e-04,\n",
       "        9.15256777e-08, 1.38084755e-09, 3.24951397e-04, 1.07598819e-01,\n",
       "        8.25035113e-06, 1.59278680e-02],\n",
       "       [2.25987369e-05, 9.99938965e-01, 2.31230209e-11, 4.67361393e-12,\n",
       "        1.85614246e-10, 2.33482700e-09, 1.68692820e-11, 1.29632966e-07,\n",
       "        3.82851576e-05, 6.53193541e-11],\n",
       "       [9.49532747e-01, 1.24655492e-06, 1.08508139e-07, 4.42677930e-07,\n",
       "        2.64831297e-02, 2.98027825e-09, 2.29946636e-02, 1.80754633e-10,\n",
       "        1.30442068e-05, 9.74725001e-04],\n",
       "       [1.80067764e-06, 5.74431093e-11, 3.98705708e-08, 7.25609406e-10,\n",
       "        9.99524117e-01, 2.75091327e-08, 3.72551157e-10, 7.01973618e-11,\n",
       "        3.81018394e-12, 4.74129105e-04],\n",
       "       [3.41992887e-08, 1.00000000e+00, 8.44854352e-17, 4.42619217e-18,\n",
       "        3.26387206e-16, 8.86221774e-15, 3.00201612e-17, 4.05701722e-11,\n",
       "        5.40846408e-08, 3.24958526e-16],\n",
       "       [1.44060153e-10, 2.48153853e-09, 8.23975552e-06, 4.09586837e-10,\n",
       "        9.99107063e-01, 8.37488740e-04, 3.65323853e-14, 6.15429201e-07,\n",
       "        2.54608529e-10, 4.66144847e-05],\n",
       "       [1.07040742e-05, 8.05709790e-03, 1.35699026e-02, 1.31689603e-05,\n",
       "        9.49138193e-04, 7.24638303e-05, 7.40825053e-05, 4.28173097e-09,\n",
       "        5.01978211e-03, 9.72233653e-01],\n",
       "       [2.60469091e-10, 2.83998958e-07, 7.00376974e-03, 1.76392296e-05,\n",
       "        3.95866819e-02, 9.11488473e-01, 4.78334082e-12, 4.11070660e-02,\n",
       "        1.04199460e-09, 7.96066248e-04],\n",
       "       [1.07713205e-07, 2.52754008e-03, 1.83013908e-04, 1.97936423e-09,\n",
       "        1.24457606e-11, 7.15085548e-07, 8.39312821e-12, 8.04240763e-09,\n",
       "        4.53099958e-09, 9.97288585e-01]], dtype=float32)"
      ]
     },
     "execution_count": 15,
     "metadata": {},
     "output_type": "execute_result"
    }
   ],
   "source": [
    "intermediate_output[:10]"
   ]
  },
  {
   "cell_type": "code",
   "execution_count": null,
   "metadata": {},
   "outputs": [],
   "source": []
  },
  {
   "cell_type": "code",
   "execution_count": null,
   "metadata": {},
   "outputs": [],
   "source": []
  },
  {
   "cell_type": "code",
   "execution_count": null,
   "metadata": {},
   "outputs": [],
   "source": []
  },
  {
   "cell_type": "code",
   "execution_count": null,
   "metadata": {},
   "outputs": [],
   "source": []
  },
  {
   "cell_type": "code",
   "execution_count": null,
   "metadata": {},
   "outputs": [],
   "source": []
  },
  {
   "cell_type": "code",
   "execution_count": 67,
   "metadata": {},
   "outputs": [],
   "source": []
  },
  {
   "cell_type": "code",
   "execution_count": null,
   "metadata": {},
   "outputs": [],
   "source": []
  }
 ],
 "metadata": {
  "kernelspec": {
   "display_name": "Python 3",
   "language": "python",
   "name": "python3"
  },
  "language_info": {
   "codemirror_mode": {
    "name": "ipython",
    "version": 3
   },
   "file_extension": ".py",
   "mimetype": "text/x-python",
   "name": "python",
   "nbconvert_exporter": "python",
   "pygments_lexer": "ipython3",
   "version": "3.6.7"
  }
 },
 "nbformat": 4,
 "nbformat_minor": 2
}
