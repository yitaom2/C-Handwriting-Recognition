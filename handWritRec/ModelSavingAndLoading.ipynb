{
 "cells": [
  {
   "cell_type": "code",
   "execution_count": 92,
   "metadata": {},
   "outputs": [],
   "source": [
    "from keras.models import load_model, Model\n",
    "import keras \n",
    "from keras.datasets import mnist \n",
    "from keras.models import Sequential \n",
    "from keras.layers import Convolution2D, Dense, Flatten, MaxPooling2D\n",
    "import matplotlib.pyplot as plt \n",
    "import numpy as np\n",
    "np.set_printoptions(threshold=np.inf)\n",
    "from keras.utils import to_categorical\n",
    "from keras.optimizers import Adam\n",
    "(x_train, y_train), (x_test, y_test) = mnist.load_data()\n",
    "modeltest = load_model('model/weights.h5')\n",
    "x_train = x_train.reshape(60000, 28, 28, 1)\n",
    "x_test= x_test.reshape(10000, 28, 28, 1)\n",
    "y_train = to_categorical(y_train, 10)\n",
    "y_test = to_categorical(y_test, 10)"
   ]
  },
  {
   "cell_type": "code",
   "execution_count": 93,
   "metadata": {},
   "outputs": [
    {
     "name": "stdout",
     "output_type": "stream",
     "text": [
      "10000/10000 [==============================] - 1s 99us/step\n",
      "[0.3562602893076837, 0.9120000022649765]\n"
     ]
    }
   ],
   "source": [
    "print(modeltest.evaluate(x_test, y_test, batch_size=100))"
   ]
  },
  {
   "cell_type": "code",
   "execution_count": null,
   "metadata": {},
   "outputs": [],
   "source": []
  },
  {
   "cell_type": "code",
   "execution_count": 94,
   "metadata": {},
   "outputs": [
    {
     "data": {
      "text/plain": [
       "array([[7.9997693e-04, 6.1580482e-13, 5.8148180e-06, 6.8617924e-11,\n",
       "        5.4282365e-23, 2.9757223e-04, 5.3494438e-23, 9.9889660e-01,\n",
       "        6.1126656e-21, 2.0386060e-17],\n",
       "       [6.4483230e-28, 6.5652357e-26, 1.0000000e+00, 9.1145607e-15,\n",
       "        7.2725832e-23, 2.8323230e-27, 3.7012556e-26, 2.1856338e-23,\n",
       "        1.2267075e-31, 1.5577963e-14],\n",
       "       [1.5840289e-08, 9.9999750e-01, 9.7371977e-10, 2.0591524e-09,\n",
       "        6.2996605e-07, 8.6587129e-09, 3.3357661e-10, 6.9329843e-07,\n",
       "        1.1844385e-06, 3.1785236e-12],\n",
       "       [9.9814534e-01, 2.3886214e-06, 4.4116798e-05, 4.6350393e-12,\n",
       "        2.0317293e-21, 5.0331579e-05, 1.9755101e-13, 1.7577881e-03,\n",
       "        3.2641171e-21, 8.8099905e-21],\n",
       "       [9.2168384e-06, 1.1674280e-10, 3.7978748e-03, 7.0064630e-07,\n",
       "        8.1288576e-01, 1.2798406e-03, 3.2724612e-09, 1.7799102e-02,\n",
       "        1.4922692e-10, 1.6422756e-01],\n",
       "       [4.3694792e-10, 9.9998045e-01, 1.6211702e-11, 3.6297340e-11,\n",
       "        1.9193982e-07, 8.3791935e-10, 1.6934587e-11, 8.4912273e-08,\n",
       "        1.9162377e-05, 1.9883138e-13],\n",
       "       [1.1673486e-02, 8.6989310e-08, 3.1585135e-03, 4.8025739e-09,\n",
       "        9.2508167e-01, 5.4944690e-02, 5.0464405e-05, 4.3068812e-03,\n",
       "        8.2432898e-08, 7.8415062e-04],\n",
       "       [1.0692613e-03, 3.8277300e-05, 1.0106764e-02, 5.6303050e-02,\n",
       "        1.3160744e-01, 8.0273570e-03, 3.4965249e-06, 2.1341883e-01,\n",
       "        4.1561463e-04, 5.7900995e-01],\n",
       "       [5.3011086e-03, 3.8296774e-05, 2.3051418e-04, 4.2945607e-07,\n",
       "        1.0905841e-03, 2.6038604e-02, 9.6451879e-01, 2.7667887e-03,\n",
       "        3.3290141e-07, 1.4556695e-05],\n",
       "       [3.3323518e-11, 7.0435150e-17, 1.4324752e-07, 9.9610785e-05,\n",
       "        3.4415608e-03, 5.0474679e-08, 9.8859037e-21, 1.7600041e-02,\n",
       "        4.6748960e-13, 9.7885865e-01]], dtype=float32)"
      ]
     },
     "execution_count": 94,
     "metadata": {},
     "output_type": "execute_result"
    }
   ],
   "source": [
    "modeltest.predict(x_test[:10], batch_size=100)"
   ]
  },
  {
   "cell_type": "code",
   "execution_count": 95,
   "metadata": {},
   "outputs": [
    {
     "name": "stderr",
     "output_type": "stream",
     "text": [
      "/home/yitao/.local/lib/python3.6/site-packages/ipykernel_launcher.py:2: UserWarning: Update your `Model` call to the Keras 2 API: `Model(inputs=Tensor(\"co..., outputs=Tensor(\"ma...)`\n",
      "  \n"
     ]
    }
   ],
   "source": [
    "intermediate_layer_model = Model(input=modeltest.input,\n",
    "                                output=modeltest.get_layer(index = 1).output)\n",
    "intermediate_output = intermediate_layer_model.predict(x_test[:100])"
   ]
  },
  {
   "cell_type": "code",
   "execution_count": 90,
   "metadata": {},
   "outputs": [
    {
     "data": {
      "text/plain": [
       "(100, 13, 13, 16)"
      ]
     },
     "execution_count": 90,
     "metadata": {},
     "output_type": "execute_result"
    }
   ],
   "source": [
    "np.shape(intermediate_output)"
   ]
  },
  {
   "cell_type": "code",
   "execution_count": 91,
   "metadata": {},
   "outputs": [
    {
     "data": {
      "text/plain": [
       "array([[-2.8035124e-03, -2.8035124e-03, -2.8035124e-03, -2.8035124e-03,\n",
       "        -2.8035124e-03, -2.8035124e-03, -2.8035124e-03, -2.8035124e-03,\n",
       "        -2.8035124e-03, -2.8035124e-03, -2.8035124e-03, -2.8035124e-03,\n",
       "        -2.8035124e-03],\n",
       "       [-2.8035124e-03, -2.8035124e-03, -2.8035124e-03, -2.8035124e-03,\n",
       "        -2.8035124e-03, -2.8035124e-03, -2.8035124e-03, -2.8035124e-03,\n",
       "        -2.8035124e-03, -2.8035124e-03, -2.8035124e-03, -2.8035124e-03,\n",
       "        -2.8035124e-03],\n",
       "       [-2.8035124e-03,  1.2773797e+01,  1.3716754e+01, -7.3431211e+00,\n",
       "        -2.2961252e+01, -2.8155558e+00, -2.8035124e-03, -2.8035124e-03,\n",
       "        -2.8035124e-03, -2.8035124e-03, -2.8035124e-03, -2.8035124e-03,\n",
       "        -2.8035124e-03],\n",
       "       [-2.8035124e-03,  2.8410818e+01,  5.5159630e+01,  6.8514145e+01,\n",
       "         6.6970917e+01,  8.1104530e+01,  7.9362473e+01,  7.4926651e+01,\n",
       "         8.0053314e+01,  2.1431086e+01,  5.2127485e+00, -2.8035124e-03,\n",
       "        -2.8035124e-03],\n",
       "       [-2.8035124e-03,  2.3002005e+00, -3.5926843e+00, -1.1132007e+00,\n",
       "        -5.2660975e+00, -1.4979535e+00,  5.3138494e+00,  7.1111422e+00,\n",
       "         1.7761713e+01, -4.3901172e+00,  1.9187887e+01, -2.8035124e-03,\n",
       "        -2.8035124e-03],\n",
       "       [-2.8035124e-03, -2.8035124e-03, -2.8035124e-03, -2.8035124e-03,\n",
       "        -2.8035124e-03,  2.5253430e-01,  9.3424410e-01,  2.4012117e+01,\n",
       "         2.9305500e+01,  2.7826172e+01,  1.6495615e+01, -2.8035124e-03,\n",
       "        -2.8035124e-03],\n",
       "       [-2.8035124e-03, -2.8035124e-03, -2.8035124e-03, -2.8035124e-03,\n",
       "        -2.8035124e-03, -2.8035124e-03,  1.9077923e+01,  3.4243011e+01,\n",
       "        -1.0998788e+01,  2.0660589e+01,  3.6973276e+00, -2.8035124e-03,\n",
       "        -2.8035124e-03],\n",
       "       [-2.8035124e-03, -2.8035124e-03, -2.8035124e-03, -2.8035124e-03,\n",
       "        -2.8035124e-03,  1.1883587e+00,  2.0673374e+01,  1.7038883e+01,\n",
       "         2.1640896e+01,  1.7984459e+01, -2.8035124e-03, -2.8035124e-03,\n",
       "        -2.8035124e-03],\n",
       "       [-2.8035124e-03, -2.8035124e-03, -2.8035124e-03, -2.8035124e-03,\n",
       "         4.4842973e-02,  1.3559770e+01,  2.1859648e+01, -4.0700979e+00,\n",
       "         2.2070349e+01,  1.5483984e+00, -2.8035124e-03, -2.8035124e-03,\n",
       "        -2.8035124e-03],\n",
       "       [-2.8035124e-03, -2.8035124e-03, -2.8035124e-03, -2.8035124e-03,\n",
       "         4.8816867e+00,  3.5514992e+01,  1.3460996e+01,  1.8546238e+01,\n",
       "         1.5415312e+01, -2.8035124e-03, -2.8035124e-03, -2.8035124e-03,\n",
       "        -2.8035124e-03],\n",
       "       [-2.8035124e-03, -2.8035124e-03, -2.8035124e-03,  9.6600842e-01,\n",
       "         2.4284311e+01,  2.9118616e+01,  2.3928096e+00,  1.3540655e+01,\n",
       "         9.3326664e-01, -2.8035124e-03, -2.8035124e-03, -2.8035124e-03,\n",
       "        -2.8035124e-03],\n",
       "       [-2.8035124e-03, -2.8035124e-03, -2.8035124e-03,  1.7351175e+01,\n",
       "         4.1702877e+01,  2.0721231e+00,  3.1891445e+01,  6.4939809e+00,\n",
       "        -2.8035124e-03, -2.8035124e-03, -2.8035124e-03, -2.8035124e-03,\n",
       "        -2.8035124e-03],\n",
       "       [-2.8035124e-03, -2.8035124e-03, -2.8035124e-03,  1.7498623e+01,\n",
       "         4.4164032e+01,  3.2362713e+01,  1.2234607e+01,  2.7336636e+00,\n",
       "        -2.8035124e-03, -2.8035124e-03, -2.8035124e-03, -2.8035124e-03,\n",
       "        -2.8035124e-03]], dtype=float32)"
      ]
     },
     "execution_count": 91,
     "metadata": {},
     "output_type": "execute_result"
    }
   ],
   "source": [
    "intermediate_output[0,:,:,0]"
   ]
  },
  {
   "cell_type": "code",
   "execution_count": null,
   "metadata": {},
   "outputs": [],
   "source": []
  },
  {
   "cell_type": "code",
   "execution_count": null,
   "metadata": {},
   "outputs": [],
   "source": []
  },
  {
   "cell_type": "code",
   "execution_count": null,
   "metadata": {},
   "outputs": [],
   "source": []
  },
  {
   "cell_type": "code",
   "execution_count": null,
   "metadata": {},
   "outputs": [],
   "source": []
  },
  {
   "cell_type": "code",
   "execution_count": null,
   "metadata": {},
   "outputs": [],
   "source": []
  },
  {
   "cell_type": "code",
   "execution_count": 67,
   "metadata": {},
   "outputs": [],
   "source": []
  },
  {
   "cell_type": "code",
   "execution_count": null,
   "metadata": {},
   "outputs": [],
   "source": []
  }
 ],
 "metadata": {
  "kernelspec": {
   "display_name": "Python 3",
   "language": "python",
   "name": "python3"
  },
  "language_info": {
   "codemirror_mode": {
    "name": "ipython",
    "version": 3
   },
   "file_extension": ".py",
   "mimetype": "text/x-python",
   "name": "python",
   "nbconvert_exporter": "python",
   "pygments_lexer": "ipython3",
   "version": "3.6.7"
  }
 },
 "nbformat": 4,
 "nbformat_minor": 2
}
