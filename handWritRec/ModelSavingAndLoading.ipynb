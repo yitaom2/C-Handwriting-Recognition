{
 "cells": [
  {
   "cell_type": "code",
   "execution_count": 18,
   "metadata": {},
   "outputs": [],
   "source": [
    "from keras.models import load_model, Model\n",
    "import keras \n",
    "from keras.datasets import mnist \n",
    "from keras.models import Sequential \n",
    "from keras.layers import Convolution2D, Dense, Flatten, MaxPooling2D\n",
    "import matplotlib.pyplot as plt \n",
    "import numpy as np\n",
    "np.set_printoptions(threshold=np.inf)\n",
    "from keras.utils import to_categorical\n",
    "from keras.optimizers import Adam\n",
    "(x_train, y_train), (x_test, y_test) = mnist.load_data()\n",
    "modeltest = load_model('model/weights.h5')\n",
    "x_train = x_train.reshape(60000, 28, 28, 1)\n",
    "x_test= x_test.reshape(10000, 28, 28, 1)\n",
    "y_train = to_categorical(y_train, 10)\n",
    "y_test = to_categorical(y_test, 10)"
   ]
  },
  {
   "cell_type": "code",
   "execution_count": 19,
   "metadata": {},
   "outputs": [
    {
     "name": "stdout",
     "output_type": "stream",
     "text": [
      "10000/10000 [==============================] - 1s 86us/step\n",
      "[0.4261170332715847, 0.9306000036001205]\n"
     ]
    }
   ],
   "source": [
    "print(modeltest.evaluate(x_test, y_test, batch_size=100))"
   ]
  },
  {
   "cell_type": "code",
   "execution_count": 20,
   "metadata": {},
   "outputs": [
    {
     "data": {
      "text/plain": [
       "[<tf.Variable 'conv2d_1_1/kernel:0' shape=(4, 4, 1, 16) dtype=float32_ref>,\n",
       " <tf.Variable 'conv2d_1_1/bias:0' shape=(16,) dtype=float32_ref>,\n",
       " <tf.Variable 'dense_1_1/kernel:0' shape=(3136, 20) dtype=float32_ref>,\n",
       " <tf.Variable 'dense_1_1/bias:0' shape=(20,) dtype=float32_ref>,\n",
       " <tf.Variable 'dense_2_1/kernel:0' shape=(20, 10) dtype=float32_ref>,\n",
       " <tf.Variable 'dense_2_1/bias:0' shape=(10,) dtype=float32_ref>]"
      ]
     },
     "execution_count": 20,
     "metadata": {},
     "output_type": "execute_result"
    }
   ],
   "source": [
    "modeltest.weights"
   ]
  },
  {
   "cell_type": "code",
   "execution_count": 21,
   "metadata": {},
   "outputs": [
    {
     "data": {
      "text/plain": [
       "array([[0.0000000e+00, 9.4892053e-33, 1.2885947e-21, 5.1870375e-10,\n",
       "        4.1763973e-34, 5.3027649e-22, 1.4636713e-36, 1.0000000e+00,\n",
       "        6.0284918e-16, 7.6714172e-13],\n",
       "       [7.0149770e-07, 1.2641682e-06, 9.9595839e-01, 2.3791334e-03,\n",
       "        3.1411928e-05, 2.5553552e-05, 5.7082832e-07, 2.9661969e-04,\n",
       "        3.1752072e-04, 9.8887470e-04],\n",
       "       [1.6053457e-08, 9.9990869e-01, 2.6661767e-13, 6.2586196e-08,\n",
       "        4.5841811e-12, 1.2864861e-05, 5.2099458e-05, 4.6896683e-13,\n",
       "        2.6167963e-05, 6.0004224e-12],\n",
       "       [1.0000000e+00, 8.2733858e-13, 3.2537123e-18, 2.4046198e-15,\n",
       "        1.0152467e-10, 1.0586550e-15, 1.0382903e-10, 1.7447739e-12,\n",
       "        1.8845348e-10, 1.1500973e-08],\n",
       "       [3.9527256e-10, 7.7380116e-18, 7.5683773e-12, 2.1489454e-21,\n",
       "        9.9999988e-01, 2.0652160e-15, 1.8400282e-08, 1.5438667e-07,\n",
       "        5.3259940e-12, 1.3426373e-11],\n",
       "       [5.8679137e-07, 9.9994004e-01, 2.6403485e-10, 6.5045737e-07,\n",
       "        6.8060682e-09, 4.3930792e-09, 7.2008165e-06, 8.2193356e-13,\n",
       "        5.1585324e-05, 1.4882405e-13],\n",
       "       [3.5266120e-07, 8.0692362e-17, 6.5577190e-16, 2.4147956e-18,\n",
       "        9.9949419e-01, 3.3630310e-11, 5.0535490e-04, 3.6119012e-08,\n",
       "        1.7523098e-07, 8.5868534e-14],\n",
       "       [8.3025610e-23, 4.6225274e-11, 5.2103424e-06, 4.5570148e-17,\n",
       "        1.2939018e-15, 7.9938474e-09, 5.8339396e-24, 8.3539344e-15,\n",
       "        8.6970028e-21, 9.9999475e-01],\n",
       "       [3.2926855e-23, 1.9458696e-18, 9.0482241e-14, 4.4043121e-26,\n",
       "        1.1041862e-17, 1.0000000e+00, 1.8546312e-14, 1.9691467e-16,\n",
       "        1.8250975e-18, 1.4884725e-16],\n",
       "       [8.2437458e-38, 4.2838855e-23, 8.9330968e-13, 7.4602437e-19,\n",
       "        2.6103514e-21, 7.9500267e-19, 1.1534256e-34, 5.8658371e-09,\n",
       "        7.3300124e-16, 1.0000000e+00]], dtype=float32)"
      ]
     },
     "execution_count": 21,
     "metadata": {},
     "output_type": "execute_result"
    }
   ],
   "source": [
    "modeltest.predict(x_test[:10], batch_size=100)"
   ]
  },
  {
   "cell_type": "code",
   "execution_count": 25,
   "metadata": {},
   "outputs": [
    {
     "name": "stderr",
     "output_type": "stream",
     "text": [
      "/home/yitao/.local/lib/python3.6/site-packages/ipykernel_launcher.py:2: UserWarning: Update your `Model` call to the Keras 2 API: `Model(inputs=Tensor(\"co..., outputs=Tensor(\"de...)`\n",
      "  \n"
     ]
    }
   ],
   "source": [
    "intermediate_layer_model = Model(input=modeltest.input,\n",
    "                                output=modeltest.get_layer(index = 4).output)\n",
    "intermediate_output = intermediate_layer_model.predict(x_test[:100])"
   ]
  },
  {
   "cell_type": "code",
   "execution_count": 26,
   "metadata": {},
   "outputs": [
    {
     "data": {
      "text/plain": [
       "(100, 10)"
      ]
     },
     "execution_count": 26,
     "metadata": {},
     "output_type": "execute_result"
    }
   ],
   "source": [
    "np.shape(intermediate_output)"
   ]
  },
  {
   "cell_type": "code",
   "execution_count": 27,
   "metadata": {},
   "outputs": [
    {
     "data": {
      "text/plain": [
       "array([[0.00000000e+00, 9.48927806e-33, 1.28859957e-21, 5.18704690e-10,\n",
       "        4.17646072e-34, 5.30274471e-22, 1.46369360e-36, 1.00000000e+00,\n",
       "        6.02856060e-16, 7.67137330e-13],\n",
       "       [7.01501676e-07, 1.26417672e-06, 9.95958388e-01, 2.37914012e-03,\n",
       "        3.14120480e-05, 2.55536488e-05, 5.70831617e-07, 2.96620798e-04,\n",
       "        3.17522237e-04, 9.88877495e-04],\n",
       "       [1.60534874e-08, 9.99908686e-01, 2.66618189e-13, 6.25863095e-08,\n",
       "        4.58419891e-12, 1.28648981e-05, 5.20995600e-05, 4.68966825e-13,\n",
       "        2.61679634e-05, 6.00039983e-12],\n",
       "       [1.00000000e+00, 8.27346492e-13, 3.25371225e-18, 2.40462913e-15,\n",
       "        1.01524282e-10, 1.05865502e-15, 1.03828432e-10, 1.74477056e-12,\n",
       "        1.88454197e-10, 1.15010605e-08],\n",
       "       [3.95273314e-10, 7.73804137e-18, 7.56839209e-12, 2.14896172e-21,\n",
       "        9.99999881e-01, 2.06523192e-15, 1.84003870e-08, 1.54386967e-07,\n",
       "        5.32602434e-12, 1.34264232e-11],\n",
       "       [5.86793078e-07, 9.99940038e-01, 2.64036348e-10, 6.50461118e-07,\n",
       "        6.80610679e-09, 4.39307923e-09, 7.20081653e-06, 8.21938275e-13,\n",
       "        5.15855209e-05, 1.48824339e-13],\n",
       "       [3.52658503e-07, 8.06917533e-17, 6.55766926e-16, 2.41474948e-18,\n",
       "        9.99494195e-01, 3.36301161e-11, 5.05352975e-04, 3.61188732e-08,\n",
       "        1.75228976e-07, 8.58677075e-14],\n",
       "       [8.30249786e-23, 4.62250099e-11, 5.21032734e-06, 4.55701476e-17,\n",
       "        1.29389195e-15, 7.99381628e-09, 5.83387291e-24, 8.35387091e-15,\n",
       "        8.69696969e-21, 9.99994755e-01],\n",
       "       [3.29268554e-23, 1.94589917e-18, 9.04825937e-14, 4.40431212e-26,\n",
       "        1.10419463e-17, 1.00000000e+00, 1.85463827e-14, 1.96914673e-16,\n",
       "        1.82511839e-18, 1.48848941e-16],\n",
       "       [8.24374582e-38, 4.28388548e-23, 8.93307997e-13, 7.46027267e-19,\n",
       "        2.61036149e-21, 7.95002666e-19, 1.15342559e-34, 5.86581450e-09,\n",
       "        7.33001243e-16, 1.00000000e+00]], dtype=float32)"
      ]
     },
     "execution_count": 27,
     "metadata": {},
     "output_type": "execute_result"
    }
   ],
   "source": [
    "intermediate_output[:10]"
   ]
  },
  {
   "cell_type": "code",
   "execution_count": null,
   "metadata": {},
   "outputs": [],
   "source": []
  },
  {
   "cell_type": "code",
   "execution_count": null,
   "metadata": {},
   "outputs": [],
   "source": []
  },
  {
   "cell_type": "code",
   "execution_count": null,
   "metadata": {},
   "outputs": [],
   "source": []
  },
  {
   "cell_type": "code",
   "execution_count": null,
   "metadata": {},
   "outputs": [],
   "source": []
  },
  {
   "cell_type": "code",
   "execution_count": null,
   "metadata": {},
   "outputs": [],
   "source": []
  },
  {
   "cell_type": "code",
   "execution_count": 67,
   "metadata": {},
   "outputs": [],
   "source": []
  },
  {
   "cell_type": "code",
   "execution_count": null,
   "metadata": {},
   "outputs": [],
   "source": []
  }
 ],
 "metadata": {
  "kernelspec": {
   "display_name": "Python 3",
   "language": "python",
   "name": "python3"
  },
  "language_info": {
   "codemirror_mode": {
    "name": "ipython",
    "version": 3
   },
   "file_extension": ".py",
   "mimetype": "text/x-python",
   "name": "python",
   "nbconvert_exporter": "python",
   "pygments_lexer": "ipython3",
   "version": "3.6.7"
  }
 },
 "nbformat": 4,
 "nbformat_minor": 2
}
